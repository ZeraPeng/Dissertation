{
 "cells": [
  {
   "cell_type": "markdown",
   "metadata": {},
   "source": [
    "查看npy文件内容"
   ]
  },
  {
   "cell_type": "code",
   "execution_count": null,
   "metadata": {},
   "outputs": [],
   "source": [
    "import argparse\n",
    "import os\n",
    "import shutil\n",
    "\n",
    "import numpy as np\n",
    "import torch\n",
    "import torch.nn as nn\n",
    "import torch.nn.functional as F\n",
    "import torch.optim as optim\n",
    "import traceback\n",
    "import sys\n",
    "\n",
    "from data_cnn60 import AverageMeter, NTUDataLoaders\n",
    "from s_model import (MLP, Decoder, Discriminator, Encoder, KL_divergence,\n",
    "                   permute_dims, reparameterize)"
   ]
  },
  {
   "cell_type": "code",
   "execution_count": null,
   "metadata": {},
   "outputs": [],
   "source": [
    "def import_class(import_str):\n",
    "    mod_str, _sep, class_str = import_str.rpartition('.')\n",
    "    __import__(mod_str)\n",
    "    try:\n",
    "        return getattr(sys.modules[mod_str], class_str)\n",
    "    except AttributeError:\n",
    "        raise ImportError('Class %s cannot be found (%s)' % (class_str, traceback.format_exception(*sys.exc_info())))\n",
    "\n",
    "\n",
    "finegrain_model = import_class(\"model.shiftgcn_match_ntu.ModelMatch\")"
   ]
  },
  {
   "cell_type": "code",
   "execution_count": null,
   "metadata": {},
   "outputs": [],
   "source": [
    "# load the semantic attributes\n",
    "# attribute_features_dict = torch.load('/DATA3/cy/STAR/data/text_feature/ntu_spatial_temporal_attribute_feature_dict_gpt35.tar')\n",
    "device = torch.device(\"cuda\" if torch.cuda.is_available() else \"cpu\")\n",
    "action_descriptions = torch.load('text_feature/ntu_semantic_part_feature_dict_gpt35_6part.tar')\n",
    "\n",
    "# load part language description\n",
    "part_language = []\n",
    "for i, part_name in enumerate([\"head\", \"hand\", \"arm\", \"hip\", \"leg\", \"foot\"]):\n",
    "    part_language.append(action_descriptions[i+1].unsqueeze(1))\n",
    "part_language1 = torch.cat(part_language, dim=1).cuda(device)"
   ]
  }
 ],
 "metadata": {
  "kernelspec": {
   "display_name": "dst",
   "language": "python",
   "name": "python3"
  },
  "language_info": {
   "codemirror_mode": {
    "name": "ipython",
    "version": 3
   },
   "file_extension": ".py",
   "mimetype": "text/x-python",
   "name": "python",
   "nbconvert_exporter": "python",
   "pygments_lexer": "ipython3",
   "version": "3.10.16"
  }
 },
 "nbformat": 4,
 "nbformat_minor": 2
}
